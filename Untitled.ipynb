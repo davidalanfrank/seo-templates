{
 "cells": [
  {
   "cell_type": "code",
   "execution_count": 1,
   "id": "2179c21c-6186-4b40-90f4-5f7542c98416",
   "metadata": {},
   "outputs": [
    {
     "name": "stdout",
     "output_type": "stream",
     "text": [
      "Requirement already satisfied: python-slugify in /Users/davidwebster/opt/anaconda3/lib/python3.9/site-packages (5.0.2)\n",
      "Requirement already satisfied: text-unidecode>=1.3 in /Users/davidwebster/opt/anaconda3/lib/python3.9/site-packages (from python-slugify) (1.3)\n"
     ]
    }
   ],
   "source": [
    "!pip install python-slugify\n"
   ]
  },
  {
   "cell_type": "code",
   "execution_count": 3,
   "id": "e71c1961-df30-47ba-8e18-07dc7f97487a",
   "metadata": {},
   "outputs": [
    {
     "name": "stdout",
     "output_type": "stream",
     "text": [
      "Generated: wellness-christmas-gifts-bondi/wellness-christmas-gifts-bondi.html\n",
      "Generated: wellness-christmas-gifts-bondi/wellness-christmas-gifts-melbourne.html\n",
      "Generated: wellness-christmas-gifts-bondi/wellness-christmas-gifts-byron-bay.html\n",
      "Generated: wellness-christmas-gifts-bondi/wellness-christmas-gifts-brisbane.html\n",
      "Generated: wellness-christmas-gifts-bondi/wellness-christmas-gifts-adelaide.html\n"
     ]
    }
   ],
   "source": [
    "import os\n",
    "import datetime\n",
    "from slugify import slugify  # Install with: pip install python-slugify\n",
    "\n",
    "# Mock data\n",
    "cities = [\"Bondi\", \"Melbourne\", \"Byron Bay\", \"Brisbane\", \"Adelaide\"]\n",
    "shipping_deadlines = {\n",
    "    \"Bondi\": \"December 20, 2025\",\n",
    "    \"Melbourne\": \"December 18, 2025\",\n",
    "    \"Byron Bay\": \"December 16, 2025\",\n",
    "    \"Brisbane\": \"December 21, 2025\",\n",
    "    \"Adelaide\": \"December 19, 2025\"\n",
    "}\n",
    "\n",
    "products = [\n",
    "    {\n",
    "        \"name\": \"Circadian Glow Lamp\",\n",
    "        \"image\": \"https://example.com/images/lamp.jpg\",\n",
    "        \"url\": \"https://truthhealthwealth.com.au/products/circadian-glow-lamp\"\n",
    "    },\n",
    "    {\n",
    "        \"name\": \"NightFall Sleep Mask\",\n",
    "        \"image\": \"https://example.com/images/mask.jpg\",\n",
    "        \"url\": \"https://truthhealthwealth.com.au/products/nightfall-sleep-mask\"\n",
    "    },\n",
    "    {\n",
    "        \"name\": \"PhotonShield UV Umbrella\",\n",
    "        \"image\": \"https://example.com/images/umbrella.jpg\",\n",
    "        \"url\": \"https://truthhealthwealth.com.au/products/photonshield-uv-umbrella\"\n",
    "    }\n",
    "]\n",
    "\n",
    "# Load template\n",
    "template_path = \"templates/wellness-christmas-gifts-bondi.html\"\n",
    "with open(template_path, \"r\", encoding=\"utf-8\") as file:\n",
    "    template = file.read()\n",
    "\n",
    "# Create output directory\n",
    "output_dir = \"wellness-christmas-gifts-bondi\"\n",
    "os.makedirs(output_dir, exist_ok=True)\n",
    "\n",
    "# Generate pages\n",
    "for city in cities:\n",
    "    city_slug = slugify(city)\n",
    "    output_file = f\"{output_dir}/wellness-christmas-gifts-{city_slug}.html\"\n",
    "\n",
    "    content = template\n",
    "    content = content.replace(\"{{City}}\", city)\n",
    "    content = content.replace(\"{{ShippingDeadlineDate}}\", shipping_deadlines[city])\n",
    "    content = content.replace(\"{{CurrentYear}}\", str(datetime.datetime.now().year))\n",
    "\n",
    "    # Replace product slots\n",
    "    for i, product in enumerate(products, start=1):\n",
    "        content = content.replace(f\"{{{{Product Name}}}}\", product[\"name\"], 1)\n",
    "        content = content.replace(f\"{{{{ProductImageURL}}}}\", product[\"image\"], 1)\n",
    "        content = content.replace(f\"{{{{ProductURL}}}}\", product[\"url\"], 1)\n",
    "\n",
    "    # Save output\n",
    "    with open(output_file, \"w\", encoding=\"utf-8\") as f:\n",
    "        f.write(content)\n",
    "\n",
    "    print(f\"Generated: {output_file}\")\n"
   ]
  },
  {
   "cell_type": "code",
   "execution_count": null,
   "id": "94e898f4-aaf3-472a-a6ea-41d4ebad2356",
   "metadata": {},
   "outputs": [],
   "source": []
  }
 ],
 "metadata": {
  "kernelspec": {
   "display_name": "Python 3 (ipykernel)",
   "language": "python",
   "name": "python3"
  },
  "language_info": {
   "codemirror_mode": {
    "name": "ipython",
    "version": 3
   },
   "file_extension": ".py",
   "mimetype": "text/x-python",
   "name": "python",
   "nbconvert_exporter": "python",
   "pygments_lexer": "ipython3",
   "version": "3.9.13"
  }
 },
 "nbformat": 4,
 "nbformat_minor": 5
}
