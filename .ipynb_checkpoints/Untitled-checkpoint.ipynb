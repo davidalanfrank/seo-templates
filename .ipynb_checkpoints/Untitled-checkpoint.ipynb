{
 "cells": [
  {
   "cell_type": "code",
   "execution_count": 1,
   "id": "2179c21c-6186-4b40-90f4-5f7542c98416",
   "metadata": {},
   "outputs": [
    {
     "name": "stdout",
     "output_type": "stream",
     "text": [
      "Requirement already satisfied: python-slugify in /Users/davidwebster/opt/anaconda3/lib/python3.9/site-packages (5.0.2)\n",
      "Requirement already satisfied: text-unidecode>=1.3 in /Users/davidwebster/opt/anaconda3/lib/python3.9/site-packages (from python-slugify) (1.3)\n"
     ]
    }
   ],
   "source": [
    "!pip install python-slugify\n"
   ]
  },
  {
   "cell_type": "code",
   "execution_count": 2,
   "id": "e71c1961-df30-47ba-8e18-07dc7f97487a",
   "metadata": {},
   "outputs": [
    {
     "ename": "FileNotFoundError",
     "evalue": "[Errno 2] No such file or directory: 'wellness-christmas-gifts-bondi.html'",
     "output_type": "error",
     "traceback": [
      "\u001b[0;31m---------------------------------------------------------------------------\u001b[0m",
      "\u001b[0;31mFileNotFoundError\u001b[0m                         Traceback (most recent call last)",
      "\u001b[0;32m/var/folders/7y/hbtprb0j27b5cw509j_pn_280000gn/T/ipykernel_3477/3024667217.py\u001b[0m in \u001b[0;36m<module>\u001b[0;34m\u001b[0m\n\u001b[1;32m     33\u001b[0m \u001b[0;31m# Load template\u001b[0m\u001b[0;34m\u001b[0m\u001b[0;34m\u001b[0m\u001b[0m\n\u001b[1;32m     34\u001b[0m \u001b[0mtemplate_path\u001b[0m \u001b[0;34m=\u001b[0m \u001b[0;34m\"wellness-christmas-gifts-bondi.html\"\u001b[0m\u001b[0;34m\u001b[0m\u001b[0;34m\u001b[0m\u001b[0m\n\u001b[0;32m---> 35\u001b[0;31m \u001b[0;32mwith\u001b[0m \u001b[0mopen\u001b[0m\u001b[0;34m(\u001b[0m\u001b[0mtemplate_path\u001b[0m\u001b[0;34m,\u001b[0m \u001b[0;34m\"r\"\u001b[0m\u001b[0;34m,\u001b[0m \u001b[0mencoding\u001b[0m\u001b[0;34m=\u001b[0m\u001b[0;34m\"utf-8\"\u001b[0m\u001b[0;34m)\u001b[0m \u001b[0;32mas\u001b[0m \u001b[0mfile\u001b[0m\u001b[0;34m:\u001b[0m\u001b[0;34m\u001b[0m\u001b[0;34m\u001b[0m\u001b[0m\n\u001b[0m\u001b[1;32m     36\u001b[0m     \u001b[0mtemplate\u001b[0m \u001b[0;34m=\u001b[0m \u001b[0mfile\u001b[0m\u001b[0;34m.\u001b[0m\u001b[0mread\u001b[0m\u001b[0;34m(\u001b[0m\u001b[0;34m)\u001b[0m\u001b[0;34m\u001b[0m\u001b[0;34m\u001b[0m\u001b[0m\n\u001b[1;32m     37\u001b[0m \u001b[0;34m\u001b[0m\u001b[0m\n",
      "\u001b[0;31mFileNotFoundError\u001b[0m: [Errno 2] No such file or directory: 'wellness-christmas-gifts-bondi.html'"
     ]
    }
   ],
   "source": [
    "import os\n",
    "import datetime\n",
    "from slugify import slugify  # Install with: pip install python-slugify\n",
    "\n",
    "# Mock data\n",
    "cities = [\"Bondi\", \"Melbourne\", \"Byron Bay\", \"Brisbane\", \"Adelaide\"]\n",
    "shipping_deadlines = {\n",
    "    \"Bondi\": \"December 20, 2025\",\n",
    "    \"Melbourne\": \"December 18, 2025\",\n",
    "    \"Byron Bay\": \"December 16, 2025\",\n",
    "    \"Brisbane\": \"December 21, 2025\",\n",
    "    \"Adelaide\": \"December 19, 2025\"\n",
    "}\n",
    "\n",
    "products = [\n",
    "    {\n",
    "        \"name\": \"Circadian Glow Lamp\",\n",
    "        \"image\": \"https://example.com/images/lamp.jpg\",\n",
    "        \"url\": \"https://truthhealthwealth.com.au/products/circadian-glow-lamp\"\n",
    "    },\n",
    "    {\n",
    "        \"name\": \"NightFall Sleep Mask\",\n",
    "        \"image\": \"https://example.com/images/mask.jpg\",\n",
    "        \"url\": \"https://truthhealthwealth.com.au/products/nightfall-sleep-mask\"\n",
    "    },\n",
    "    {\n",
    "        \"name\": \"PhotonShield UV Umbrella\",\n",
    "        \"image\": \"https://example.com/images/umbrella.jpg\",\n",
    "        \"url\": \"https://truthhealthwealth.com.au/products/photonshield-uv-umbrella\"\n",
    "    }\n",
    "]\n",
    "\n",
    "# Load template\n",
    "template_path = \"templates/wellness-christmas-gifts-bondi.html\"\n",
    "with open(template_path, \"r\", encoding=\"utf-8\") as file:\n",
    "    template = file.read()\n",
    "\n",
    "# Create output directory\n",
    "output_dir = \"wellness-christmas-gifts-bondi\"\n",
    "os.makedirs(output_dir, exist_ok=True)\n",
    "\n",
    "# Generate pages\n",
    "for city in cities:\n",
    "    city_slug = slugify(city)\n",
    "    output_file = f\"{output_dir}/wellness-christmas-gifts-{city_slug}.html\"\n",
    "\n",
    "    content = template\n",
    "    content = content.replace(\"{{City}}\", city)\n",
    "    content = content.replace(\"{{ShippingDeadlineDate}}\", shipping_deadlines[city])\n",
    "    content = content.replace(\"{{CurrentYear}}\", str(datetime.datetime.now().year))\n",
    "\n",
    "    # Replace product slots\n",
    "    for i, product in enumerate(products, start=1):\n",
    "        content = content.replace(f\"{{{{Product Name}}}}\", product[\"name\"], 1)\n",
    "        content = content.replace(f\"{{{{ProductImageURL}}}}\", product[\"image\"], 1)\n",
    "        content = content.replace(f\"{{{{ProductURL}}}}\", product[\"url\"], 1)\n",
    "\n",
    "    # Save output\n",
    "    with open(output_file, \"w\", encoding=\"utf-8\") as f:\n",
    "        f.write(content)\n",
    "\n",
    "    print(f\"Generated: {output_file}\")\n"
   ]
  },
  {
   "cell_type": "code",
   "execution_count": null,
   "id": "94e898f4-aaf3-472a-a6ea-41d4ebad2356",
   "metadata": {},
   "outputs": [],
   "source": []
  }
 ],
 "metadata": {
  "kernelspec": {
   "display_name": "Python 3 (ipykernel)",
   "language": "python",
   "name": "python3"
  },
  "language_info": {
   "codemirror_mode": {
    "name": "ipython",
    "version": 3
   },
   "file_extension": ".py",
   "mimetype": "text/x-python",
   "name": "python",
   "nbconvert_exporter": "python",
   "pygments_lexer": "ipython3",
   "version": "3.9.13"
  }
 },
 "nbformat": 4,
 "nbformat_minor": 5
}
